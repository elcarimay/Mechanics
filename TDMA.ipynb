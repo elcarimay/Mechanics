{
 "cells": [
  {
   "cell_type": "markdown",
   "id": "6d4ebe5a",
   "metadata": {},
   "source": [
    "# TDMA: Thomas Algorithm or Tri-Diagonal Matrix Alrorithm"
   ]
  },
  {
   "cell_type": "code",
   "execution_count": 20,
   "id": "e19d4c14",
   "metadata": {},
   "outputs": [],
   "source": [
    "## Tri Diagonal Matrix Algorithm(a.k.a Thomas algorithm) solver\n",
    "def TDMA(a,b,c,d): \n",
    "    # b is diagonal \n",
    "    # a is below  \n",
    "    # c is above \n",
    "    n=len(a) \n",
    "    ϕ=empty(n) \n",
    "    P=empty(n) \n",
    "    Q=empty(n) \n",
    "\n",
    "    P[0]=-c[0]/b[0] \n",
    "    Q[0]=d[0]/b[0] \n",
    "\n",
    "    # Forward Elimination  \n",
    "    for i in range(1,n): \n",
    "        P[i]=-c[i]/(b[i]+a[i]*P[i-1]) \n",
    "        Q[i]=(d[i]-a[i]*Q[i-1])/(b[i]+a[i]*P[i-1]) \n",
    "\n",
    "    # Last point Temperature \n",
    "    ϕ[-1]=Q[-1] \n",
    "\n",
    "    # Backward Substitution \n",
    "    for i in range(n-2,-1,-1): \n",
    "        ϕ[i]=P[i]*ϕ[i+1]+Q[i]  \n",
    "    return ϕ"
   ]
  },
  {
   "cell_type": "code",
   "execution_count": 15,
   "id": "df7015a4",
   "metadata": {},
   "outputs": [
    {
     "data": {
      "text/plain": [
       "array([2.5, 4. , 4.5, 4. , 2.5])"
      ]
     },
     "execution_count": 15,
     "metadata": {},
     "output_type": "execute_result"
    }
   ],
   "source": [
    "import numpy as np\n",
    "n=5 \n",
    " \n",
    "# b is diagonal \n",
    "b=ones(n)*2 \n",
    " \n",
    "# a is below  \n",
    "a=ones(n)*(-1) \n",
    "a[0]=0 \n",
    " \n",
    "# c is above \n",
    "c=ones(n)*(-1) \n",
    "c[-1]=0 \n",
    " \n",
    "# RHS Vector \n",
    "d=ones(n) \n",
    " \n",
    "# Function Call \n",
    "TDMA(a,b,c,d)"
   ]
  },
  {
   "cell_type": "markdown",
   "id": "dc7fa2ef",
   "metadata": {},
   "source": [
    "## Example 4.3\n",
    "$\\frac{d}{dx}\\left(k\\frac{dT}{dx}\\right)+ hP\\left(T-T\\infty\\right)=0$"
   ]
  },
  {
   "cell_type": "code",
   "execution_count": 16,
   "id": "e44b0bbf",
   "metadata": {},
   "outputs": [],
   "source": [
    "x_start,x_finish = 0.0, 1\n",
    "lx = x_finish - x_start\n",
    "nx = 5 # no. of finite volumes using to solve the problem\n",
    "k = 0.5 # W/mK finite\n",
    "n2 = 25 # m^2 hP/kA\n",
    "A = 1 # m^2\n",
    "dx = lx / nx # uniform-interval between nodes\n",
    "q = 1000000 # kW/m^3 \n",
    "TB = 100 # left-End fixedTemperature BC\n",
    "Tinf = 20 # degree ambient temperature\n",
    "x = np.r_[x_start,np.linspace(x_start+dx/2, x_finish - dx/2, nx), x_finish]\n",
    "x2 = np.linspace(x_start, x_finish, 51)"
   ]
  },
  {
   "cell_type": "code",
   "execution_count": 25,
   "id": "91d73606",
   "metadata": {},
   "outputs": [],
   "source": [
    "def b(n):\n",
    "    if n==1:\n",
    "        return 1/dx + n2*dx+2/dx\n",
    "    elif n==nx:\n",
    "        return 1/dx + n2*dx\n",
    "    else:\n",
    "        return 2*1/dx + n2*dx\n",
    "\n",
    "def a(n):\n",
    "    return -1/dx\n",
    "\n",
    "def c(n):\n",
    "    return -1/dx\n",
    "\n",
    "def d(n):\n",
    "    if n==1:\n",
    "        return n2*dx*Tinf + 2/dx*TB\n",
    "    elif n==nx:\n",
    "        return n2*dx*Tinf\n",
    "    else:\n",
    "        return n2*dx*Tinf"
   ]
  },
  {
   "cell_type": "code",
   "execution_count": 27,
   "id": "71229463",
   "metadata": {},
   "outputs": [
    {
     "data": {
      "text/plain": [
       "([20.0, 15.0, 15.0, 15.0, 10.0],\n",
       " [-5.0, -5.0, -5.0, -5.0],\n",
       " [-5.0, -5.0, -5.0, -5.0],\n",
       " [1100.0, 100.0, 100.0, 100.0, 100.0])"
      ]
     },
     "execution_count": 27,
     "metadata": {},
     "output_type": "execute_result"
    }
   ],
   "source": [
    "list(map(b,np.arange(1,nx+1))), list(map(a,np.arange(1,nx))), list(map(c,np.arange(1,nx))), list(map(d,np.arange(1,nx+1)))"
   ]
  },
  {
   "cell_type": "code",
   "execution_count": 30,
   "id": "6da8ef2d",
   "metadata": {},
   "outputs": [],
   "source": [
    "sol = TDMA(list(map(a,np.arange(1,nx))),list(map(b,np.arange(1,nx+1))), list(map(c,np.arange(1,nx))),list(map(d,np.arange(1,nx+1))))"
   ]
  },
  {
   "cell_type": "code",
   "execution_count": 31,
   "id": "abde088a",
   "metadata": {},
   "outputs": [],
   "source": [
    "sol = np.r_[TB, sol, sol[-1]].round(2)"
   ]
  },
  {
   "cell_type": "code",
   "execution_count": 32,
   "id": "805f22b2",
   "metadata": {},
   "outputs": [
    {
     "data": {
      "text/plain": [
       "array([100.  ,  63.95,  35.79,  23.42,  14.47,  14.47])"
      ]
     },
     "execution_count": 32,
     "metadata": {},
     "output_type": "execute_result"
    }
   ],
   "source": [
    "sol"
   ]
  },
  {
   "cell_type": "code",
   "execution_count": null,
   "id": "6a885356",
   "metadata": {},
   "outputs": [],
   "source": []
  }
 ],
 "metadata": {
  "kernelspec": {
   "display_name": "Python 3 (ipykernel)",
   "language": "python",
   "name": "python3"
  },
  "language_info": {
   "codemirror_mode": {
    "name": "ipython",
    "version": 3
   },
   "file_extension": ".py",
   "mimetype": "text/x-python",
   "name": "python",
   "nbconvert_exporter": "python",
   "pygments_lexer": "ipython3",
   "version": "3.11.0"
  }
 },
 "nbformat": 4,
 "nbformat_minor": 5
}
